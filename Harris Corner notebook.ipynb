{
 "cells": [
  {
   "cell_type": "code",
   "execution_count": 44,
   "metadata": {},
   "outputs": [],
   "source": [
    "from PIL import Image\n",
    "import numpy as np\n",
    "import matplotlib.pyplot as plt \n",
    "from scipy.signal import convolve2d\n",
    "import cv2\n",
    "from scipy import ndimage\n",
    "image = np.array(Image.open('Chess-Board.jpg').convert(\"L\"),dtype='uint8')"
   ]
  },
  {
   "cell_type": "markdown",
   "metadata": {},
   "source": [
    "# Harris steps\n",
    "1. Calculate image derivative respect to x & y axis\n",
    "2. Gaussian smoothing of image derivatives\n",
    "3. Harris measure computation\n",
    "4. Thresholding\n",
    "5. Non-max suppression\n"
   ]
  },
  {
   "cell_type": "markdown",
   "metadata": {},
   "source": [
    "# Step 1: Calculate Image Derivative"
   ]
  },
  {
   "cell_type": "code",
   "execution_count": 45,
   "metadata": {
    "scrolled": true
   },
   "outputs": [],
   "source": [
    "def x_y_derivative(image):\n",
    "    x_kernel = 1/8*np.array([[1,0,-1],\n",
    "                        [2,0,-2],\n",
    "                        [1,0,-1]])\n",
    "    y_kernel = 1/8*np.array([[-1,-2,-1],\n",
    "                        [0,0,0],\n",
    "                        [1,2,1]])\n",
    "    Ix = convolve2d(image,x_kernel,mode='same')\n",
    "    \n",
    "    Iy = convolve2d(image,y_kernel,mode='same')\n",
    "\n",
    "    \n",
    "    return Ix,Iy\n",
    "Ix,Iy = x_y_derivative(image)"
   ]
  },
  {
   "cell_type": "markdown",
   "metadata": {},
   "source": [
    "# Step 2: Smoothing derivatives"
   ]
  },
  {
   "cell_type": "code",
   "execution_count": 46,
   "metadata": {},
   "outputs": [],
   "source": [
    "def smoothing_derivatives(Ix,Iy):\n",
    "    guassian_filter = 1/16*np.array([[1,2,1],\n",
    "                                     [2,4,2],\n",
    "                                     [1,2,1]])\n",
    "    Ix2 = convolve2d(Ix**2,guassian_filter,mode='same')\n",
    "    Iy2 = convolve2d(Iy**2,guassian_filter,mode='same')\n",
    "    Ixy = convolve2d(Ix*Iy,guassian_filter,mode='same')\n",
    "    return Ix2, Iy2, Ixy\n",
    "Ix2, Iy2, Ixy = smoothing_derivatives(Ix,Iy)"
   ]
  },
  {
   "cell_type": "markdown",
   "metadata": {},
   "source": [
    "# Step 3: Harris measure\n",
    "harris  = det(M) - trace(M)"
   ]
  },
  {
   "cell_type": "code",
   "execution_count": 162,
   "metadata": {},
   "outputs": [],
   "source": [
    "lambd = 0.04\n",
    "harris = (Ix2*Iy2-Ixy**2) - lambd*(Ix2+Iy2)"
   ]
  },
  {
   "cell_type": "markdown",
   "metadata": {},
   "source": [
    "# Step 4: Thresholding"
   ]
  },
  {
   "cell_type": "code",
   "execution_count": 163,
   "metadata": {},
   "outputs": [],
   "source": [
    "harris[harris<=0] = 0\n",
    "harris=(harris - harris.min()) / (harris.max() - harris.min())*255\n"
   ]
  },
  {
   "cell_type": "code",
   "execution_count": 164,
   "metadata": {
    "scrolled": true
   },
   "outputs": [
    {
     "data": {
      "text/plain": [
       "<matplotlib.image.AxesImage at 0x7efbeea72450>"
      ]
     },
     "execution_count": 164,
     "metadata": {},
     "output_type": "execute_result"
    },
    {
     "data": {
      "image/png": "[encoded data removed]",
      "text/plain": [
       "<Figure size 432x288 with 1 Axes>"
      ]
     },
     "metadata": {
      "needs_background": "light"
     },
     "output_type": "display_data"
    }
   ],
   "source": [
    "plt.imshow(harris,cmap='gray')"
   ]
  },
  {
   "cell_type": "markdown",
   "metadata": {},
   "source": [
    "# Step 5: non-max supression"
   ]
  },
  {
   "cell_type": "code",
   "execution_count": null,
   "metadata": {},
   "outputs": [],
   "source": []
  }
 ],
 "metadata": {
  "kernelspec": {
   "display_name": "Python 3",
   "language": "python",
   "name": "python3"
  },
  "language_info": {
   "codemirror_mode": {
    "name": "ipython",
    "version": 3
   },
   "file_extension": ".py",
   "mimetype": "text/x-python",
   "name": "python",
   "nbconvert_exporter": "python",
   "pygments_lexer": "ipython3",
   "version": "3.7.4"
  }
 },
 "nbformat": 4,
 "nbformat_minor": 2
}
